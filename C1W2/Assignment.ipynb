{
 "cells": [
  {
   "cell_type": "markdown",
   "id": "b1a8df8e",
   "metadata": {},
   "source": [
    "# Assignment: Linear regression"
   ]
  }
 ],
 "metadata": {
  "language_info": {
   "name": "python"
  }
 },
 "nbformat": 4,
 "nbformat_minor": 5
}
