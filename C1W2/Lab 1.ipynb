{
 "cells": [
  {
   "cell_type": "markdown",
   "id": "ee0c4610",
   "metadata": {},
   "source": [
    "# Lab 1: Python, NumPy and vectorisation"
   ]
  },
  {
   "cell_type": "markdown",
   "id": "453396fd",
   "metadata": {},
   "source": [
    "Numpy docs : https://numpy.org/doc/stable/user/index.html"
   ]
  },
  {
   "cell_type": "markdown",
   "id": "333a05b9",
   "metadata": {},
   "source": [
    "Numpy arrays:\n",
    "\n",
    "- 1D array of shape `(n,)` has elements indexed from [0] to [n-1] --> vectors\n",
    "- 2D array of shape `(m,n)` has elements in rows indexed from [0] to [m-1] and elements in columns indexed from [0] to [n-1] --> matrices\n"
   ]
  },
  {
   "cell_type": "code",
   "execution_count": 1,
   "id": "616bb8ac",
   "metadata": {},
   "outputs": [],
   "source": [
    "import numpy as np\n",
    "import time "
   ]
  },
  {
   "cell_type": "markdown",
   "id": "e00dd997",
   "metadata": {},
   "source": [
    "### Creating vectors and matrices"
   ]
  },
  {
   "cell_type": "code",
   "execution_count": 13,
   "id": "9731886f",
   "metadata": {},
   "outputs": [
    {
     "name": "stdout",
     "output_type": "stream",
     "text": [
      "a = [0. 0. 0. 0.], a shape = (4,), a data type = float64\n",
      "b = [1. 1. 1. 1.], b shape = (4,), b data type = float64\n",
      "c = [[0. 0. 0. 0.]\n",
      " [0. 0. 0. 0.]\n",
      " [0. 0. 0. 0.]], c shape = (3, 4), c data type = float64\n",
      "d = [[1. 0. 0.]\n",
      " [0. 1. 0.]\n",
      " [0. 0. 1.]], d shape = (3, 3), d data type = float64\n"
     ]
    }
   ],
   "source": [
    "a = np.zeros(4)\n",
    "b = np.ones((4,))\n",
    "c = np.zeros((3,4))\n",
    "d = np.eye(3)\n",
    "print(f\"a = {a}, a shape = {a.shape}, a data type = {a.dtype}\")\n",
    "print(f\"b = {b}, b shape = {b.shape}, b data type = {b.dtype}\")\n",
    "print(f\"c = {c}, c shape = {c.shape}, c data type = {c.dtype}\")\n",
    "print(f\"d = {d}, d shape = {d.shape}, d data type = {d.dtype}\")"
   ]
  },
  {
   "cell_type": "code",
   "execution_count": 21,
   "id": "e8df870b",
   "metadata": {},
   "outputs": [
    {
     "name": "stdout",
     "output_type": "stream",
     "text": [
      "[0.90264958 0.82968079 0.70225588 0.95543027 0.08306786]\n",
      "[[0.73704379 0.8761941  0.81664683 0.68922314]\n",
      " [0.2914514  0.71552981 0.42943151 0.89906041]\n",
      " [0.22525213 0.02963834 0.82904587 0.08647421]]\n"
     ]
    }
   ],
   "source": [
    "a1 = np.random.random(5) #takes as argument only the size of the array\n",
    "a2 = np.random.random((3,4))\n",
    "print(a1)\n",
    "print(a2)"
   ]
  },
  {
   "cell_type": "code",
   "execution_count": 25,
   "id": "dfcff902",
   "metadata": {},
   "outputs": [
    {
     "name": "stdout",
     "output_type": "stream",
     "text": [
      "[11  9 16 11 11]\n",
      "[[ 3  3 19  6]\n",
      " [ 7 16 10  2]\n",
      " [ 9  4  1 17]]\n"
     ]
    }
   ],
   "source": [
    "b1 = np.random.randint(0,20,5) #takes as arguments the lower bound, upper bound and size of the array\n",
    "b2 = np.random.randint(0,20,(3,4))   \n",
    "print(b1)\n",
    "print(b2)"
   ]
  },
  {
   "cell_type": "code",
   "execution_count": 30,
   "id": "fa9b4840",
   "metadata": {},
   "outputs": [
    {
     "name": "stdout",
     "output_type": "stream",
     "text": [
      "[0 1 2 3 4 5 6 7 8 9]\n",
      "[10 12 14 16 18]\n"
     ]
    }
   ],
   "source": [
    "c1 = np.arange(10)\n",
    "c2 = np.arange(10,20,2)\n",
    "print(c1)\n",
    "print(c2)"
   ]
  },
  {
   "cell_type": "code",
   "execution_count": 31,
   "id": "03f12964",
   "metadata": {},
   "outputs": [
    {
     "name": "stdout",
     "output_type": "stream",
     "text": [
      "[0.98543929 0.33632598 0.37343985 0.11593648 0.52161865]\n"
     ]
    }
   ],
   "source": [
    "print(np.random.rand(5)) # Random numbers from a uniform distribution over [0, 1)"
   ]
  },
  {
   "cell_type": "code",
   "execution_count": 34,
   "id": "10d46157",
   "metadata": {},
   "outputs": [
    {
     "name": "stdout",
     "output_type": "stream",
     "text": [
      "[ 2  4  6  8 10]\n",
      "(5,)\n",
      "[[2 4 6]\n",
      " [9 6 2]\n",
      " [4 4 5]\n",
      " [9 2 7]]\n",
      "(4, 3)\n"
     ]
    }
   ],
   "source": [
    "myvector = np.array([2,4,6,8,10])\n",
    "print(myvector)\n",
    "print(myvector.shape)\n",
    "mymatrix = np.array([[2,4,6], [9,6,2], [4,4,5], [9,2,7]])\n",
    "print(mymatrix)\n",
    "print(mymatrix.shape)"
   ]
  },
  {
   "cell_type": "markdown",
   "id": "ad432c91",
   "metadata": {},
   "source": [
    "### Operations on vectors"
   ]
  },
  {
   "cell_type": "markdown",
   "id": "d3944646",
   "metadata": {},
   "source": [
    "#### 1. Indexing"
   ]
  },
  {
   "cell_type": "markdown",
   "id": "c4635303",
   "metadata": {},
   "source": [
    "Indexing means referring to an element of an array by its position within the array. NumPy starts indexing at 0."
   ]
  },
  {
   "cell_type": "code",
   "execution_count": null,
   "id": "25c52ad8",
   "metadata": {},
   "outputs": [
    {
     "name": "stdout",
     "output_type": "stream",
     "text": [
      "[0 1 2 3 4 5 6 7 8 9]\n",
      "3rd element of vec1 = 2\n",
      "last element of vec1 = 9\n"
     ]
    }
   ],
   "source": [
    "vec1 = np.arange(10)\n",
    "print(vec1)\n",
    "print(f\"3rd element of vec1 = {vec1[2]}\")\n",
    "print(f\"last element of vec1 = {vec1[-1]}\") #negative indexes count from the end of the array"
   ]
  },
  {
   "cell_type": "markdown",
   "id": "c626738f",
   "metadata": {},
   "source": [
    "#### 2. Slicing"
   ]
  },
  {
   "cell_type": "markdown",
   "id": "7d4ca1a8",
   "metadata": {},
   "source": [
    "Slicing means getting a subset of elements from an array based on their indices.\n",
    "\n",
    "Slicing creates an array of indices using a set of three values `(start:stop:step)`"
   ]
  },
  {
   "cell_type": "code",
   "execution_count": 46,
   "id": "a786a3cb",
   "metadata": {},
   "outputs": [
    {
     "name": "stdout",
     "output_type": "stream",
     "text": [
      "vec1 = [0 1 2 3 4 5 6 7 8 9]\n",
      "vec1[2:7:1] = [2 3 4 5 6]\n",
      "vec1[2:7:2] = [2 4 6]\n",
      "vec1[3:] = [3 4 5 6 7 8 9]\n",
      "vec1[:3] = [0 1 2]\n",
      "vec1[::2] = [0 2 4 6 8]\n",
      "vec1[::-1] = [9 8 7 6 5 4 3 2 1 0]\n",
      "vec1[7:2:-1] = [7 6 5 4 3]\n",
      "vec1[:] = [0 1 2 3 4 5 6 7 8 9]\n"
     ]
    }
   ],
   "source": [
    "print(f\"vec1 = {vec1}\")\n",
    "print(\"vec1[2:7:1] =\", vec1[2:7:1]) #access 5 consecutive elements, start at index 2, stop before index 7, step by 1\n",
    "print(\"vec1[2:7:2] =\", vec1[2:7:2]) #start at index 2, stop before index 7, step by 2\n",
    "print(\"vec1[3:] =\", vec1[3:]) #access elements starting from index 3 to the end of the array\n",
    "print(\"vec1[:3] =\", vec1[:3]) #access elements starting from the beginning of the array to index 3 (not included)\n",
    "print(\"vec1[::2] =\", vec1[::2]) #access every second element of the array\n",
    "print(\"vec1[::-1] =\", vec1[::-1]) #access the array in reverse order, i.e, reverse the array\n",
    "print(\"vec1[7:2:-1] =\", vec1[7:2:-1]) #access elements starting from index 7 to index 2 (not included) in reverse order\n",
    "print(\"vec1[:] =\", vec1[:]) #access all elements of the array"
   ]
  },
  {
   "cell_type": "markdown",
   "id": "1df9576a",
   "metadata": {},
   "source": [
    "#### 3. Single vector operations"
   ]
  },
  {
   "cell_type": "code",
   "execution_count": null,
   "id": "2df6e7b6",
   "metadata": {},
   "outputs": [
    {
     "name": "stdout",
     "output_type": "stream",
     "text": [
      "vec1 = [0 1 2 3 4 5 6 7 8 9]\n",
      "vec2 = [ 0 -1 -2 -3 -4 -5 -6 -7 -8 -9]\n",
      "vec3 = [ 5  6  7  8  9 10 11 12 13 14]\n",
      "vec4 = [ 0  2  4  6  8 10 12 14 16 18]\n",
      "vec5 = [0.  0.5 1.  1.5 2.  2.5 3.  3.5 4.  4.5]\n",
      "vec6 = 45\n",
      "vec7 = 4.5\n",
      "vec8 = 2.8722813232690143\n",
      "vec9 = 8.25\n",
      "vec10 = [ 0  1  4  9 16 25 36 49 64 81]\n"
     ]
    }
   ],
   "source": [
    "print(f\"vec1 = {vec1}\")\n",
    "vec2 = -vec1\n",
    "print(f\"vec2 = {vec2}\") #negate all elements of the array\n",
    "vec3 = vec1 + 5\n",
    "print(f\"vec3 = {vec3}\") #add 5 to all elements of the array\n",
    "vec4 = vec1 * 2\n",
    "print(f\"vec4 = {vec4}\") #multiply all elements of the array by 2, i.e, scaling vector by a scalar\n",
    "vec5 = vec1 / 2\n",
    "print(f\"vec5 = {vec5}\") #divide all elements of the array by\n",
    "vec6 = np.sum(vec1)\n",
    "print(f\"vec6 = {vec6}\") #sum all elements of the array\n",
    "vec7 = np.mean(vec1)\n",
    "print(f\"vec7 = {vec7}\") #mean of all elements of the array\n",
    "vec8 = np.std(vec1)\n",
    "print(f\"vec8 = {vec8}\") #standard deviation of all elements of the array\n",
    "vec9 = np.var(vec1)\n",
    "print(f\"vec9 = {vec9}\") #variance of all elements of the array\n",
    "vec10 = vec1**2\n",
    "print(f\"vec10 = {vec10}\") #square all elements of the array"
   ]
  },
  {
   "cell_type": "markdown",
   "id": "87d37650",
   "metadata": {},
   "source": [
    "#### 4. Vector-vector element wise operations"
   ]
  },
  {
   "cell_type": "markdown",
   "id": "9e7e7d39",
   "metadata": {},
   "source": [
    "Most of the NumPy arithmetic, logical and comparison operations apply to vectors as well. These operators work on an element-by-element basis. \n",
    "\n",
    "For example: $c_i = a_i + b_i$\n"
   ]
  },
  {
   "cell_type": "code",
   "execution_count": null,
   "id": "d6e8f360",
   "metadata": {},
   "outputs": [
    {
     "name": "stdout",
     "output_type": "stream",
     "text": [
      "vec1 = [ 8  7 14 10 17]\n",
      "vec2 = [12  6 18 17  5]\n",
      "vec1 + vec2 = [20 13 32 27 22]\n",
      "vec1 - vec2 = [-4  1 -4 -7 12]\n",
      "vec1 * vec2 = [ 96  42 252 170  85]\n",
      "vec1 / vec2 = [0.66666667 1.16666667 0.77777778 0.58823529 3.4       ]\n",
      "vec1 ** vec2 = [         0     117649  381943808 1569325056    1419857]\n",
      "vec2 % vec1 = [4 6 4 7 5]\n"
     ]
    }
   ],
   "source": [
    "vec1 = np.random.randint(0,20,5)\n",
    "print(f\"vec1 = {vec1}\")\n",
    "vec2 = np.random.randint(0,20,5)\n",
    "print(f\"vec2 = {vec2}\")\n",
    "print(f\"vec1 + vec2 = {vec1 + vec2}\") #add two vectors element-wise\n",
    "print(f\"vec1 - vec2 = {vec1 - vec2}\") #subtract two vectors element-wise\n",
    "print(f\"vec1 * vec2 = {vec1 * vec2}\") #multiply two vectors element-wise\n",
    "print(f\"vec1 / vec2 = {vec1 / vec2}\") #divide two vectors element-wise\n",
    "print(f\"vec1 ** vec2 = {vec1 ** vec2}\") #raise each element of vec1 to the power of the corresponding element in vec2\n",
    "print(f\"vec2 % vec1 = {vec2 % vec1}\") #modulus, i.e, remainder\n",
    "\n",
    "\n"
   ]
  },
  {
   "cell_type": "markdown",
   "id": "d742bbcf",
   "metadata": {},
   "source": [
    "Dot product of two vectors: \n",
    "\n",
    "The dot product multiplies the values in two vectors element-wise and then sums the result. Vector dot product requires the dimensions of the two vectors to be the same."
   ]
  },
  {
   "cell_type": "code",
   "execution_count": 57,
   "id": "34305fa1",
   "metadata": {},
   "outputs": [
    {
     "name": "stdout",
     "output_type": "stream",
     "text": [
      "Dot product of vec1 and vec2 = 645\n"
     ]
    }
   ],
   "source": [
    "#Dot product of two vectors\n",
    "dp = np.dot(vec1, vec2)\n",
    "print(f\"Dot product of vec1 and vec2 = {dp}\") #dot product of two vectors"
   ]
  },
  {
   "cell_type": "markdown",
   "id": "e2087d46",
   "metadata": {},
   "source": [
    "Manual code for dot product without using numpy using `for` loop"
   ]
  },
  {
   "cell_type": "code",
   "execution_count": null,
   "id": "5f83d0e5",
   "metadata": {},
   "outputs": [
    {
     "name": "stdout",
     "output_type": "stream",
     "text": [
      "a = [5 6 7 8]\n",
      "b = [2 3 4 5]\n",
      "dp manual = 96\n",
      "dp numpy = 96\n"
     ]
    }
   ],
   "source": [
    "a = np.arange(5,9)\n",
    "print(f\"a = {a}\")\n",
    "b = np.arange(2,6)\n",
    "print(f\"b = {b}\")\n",
    "\n",
    "def dotprod(a,b):\n",
    "    \"\"\"\n",
    "    Compute dot prodcut of vectors a and b\n",
    "    Arguments:\n",
    "    a - ndarray (n,)\n",
    "    b - ndarray (n,)\n",
    "\n",
    "    Returns dotprod (scalar)\n",
    "    \"\"\"\n",
    "    if len(a) != len(b):\n",
    "        raise ValueError(\"Vectors must be of the same length\")\n",
    "    sum = 0 \n",
    "    for i in range(len(a)):\n",
    "        sum += a[i] * b[i]\n",
    "    return sum\n",
    "\n",
    "print(f\"dp manual = {dotprod(a,b)}\")\n",
    "print(f\"dp numpy = {np.dot(a,b)}\") "
   ]
  },
  {
   "cell_type": "markdown",
   "id": "7a7f6fe6",
   "metadata": {},
   "source": [
    "Numpy methods is way faster than manual looping, which is the benefit of vectorization. This is because NumPy makes better use of available data parallelism in the underlying hardware. GPU's and modern CPU's implement Single Instruction, Multiple Data (SIMD) pipelines allowing multiple operations to be issued in parallel. This is critical in Machine Learning where the data sets are often very large."
   ]
  },
  {
   "cell_type": "code",
   "execution_count": 64,
   "id": "ad33eb95",
   "metadata": {},
   "outputs": [
    {
     "name": "stdout",
     "output_type": "stream",
     "text": [
      "np.dot(a, b) =  2501072.5817\n",
      "Vectorized version duration: 11.6107 ms \n",
      "dotprod(a, b) =  2501072.5817\n",
      "loop version duration: 4582.6597 ms \n"
     ]
    }
   ],
   "source": [
    "np.random.seed(1)\n",
    "a = np.random.rand(10000000)  # very large arrays\n",
    "b = np.random.rand(10000000)\n",
    "\n",
    "tic = time.time()  # capture start time\n",
    "c = np.dot(a, b)\n",
    "toc = time.time()  # capture end time\n",
    "\n",
    "print(f\"np.dot(a, b) =  {c:.4f}\")\n",
    "print(f\"Vectorized version duration: {1000*(toc-tic):.4f} ms \")\n",
    "\n",
    "tic = time.time()  # capture start time\n",
    "c = dotprod(a,b)\n",
    "toc = time.time()  # capture end time\n",
    "\n",
    "print(f\"dotprod(a, b) =  {c:.4f}\")\n",
    "print(f\"loop version duration: {1000*(toc-tic):.4f} ms \")\n",
    "\n",
    "del(a);del(b)  #remove these big arrays from memory"
   ]
  },
  {
   "cell_type": "markdown",
   "id": "97ed0822",
   "metadata": {},
   "source": [
    "### Matrices"
   ]
  },
  {
   "cell_type": "markdown",
   "id": "44032959",
   "metadata": {},
   "source": [
    "2D matrices will be used to hold training data, which is **m** examples by **n** features, creating an **(m,n)** array. \n",
    "\n",
    "Course 1 will not do operations directly on matrices but typically extracts an example as a vector and operates on that"
   ]
  },
  {
   "cell_type": "markdown",
   "id": "dc351b96",
   "metadata": {},
   "source": [
    "<figure>\n",
    "    <center> <img src=\"..\\images\\C1_W2_Lab04_Matrices.PNG\"  alt='missing'  width=900><center/>\n",
    "    <figcaption> Generic Matrix Notation, 1st index is row, 2nd is column </figcaption>\n",
    "<figure/>"
   ]
  },
  {
   "cell_type": "markdown",
   "id": "36178dca",
   "metadata": {},
   "source": [
    "- Going forward, our examples will be stored in a 2D array, `X_train` of dimension (m,n).\n",
    "- `w` will be a 1D vector of shape (n,).\n",
    "- We will perform operations by looping through the examples, extracting each example to work on individually by indexing X. For example:`X[i]`\n",
    "- `X[i]` returns a value of shape (n,), a 1-dimensional vector. Consequently, operations involving `X[i]` are often vector-vector.  "
   ]
  },
  {
   "cell_type": "code",
   "execution_count": null,
   "id": "8fd0d1ac",
   "metadata": {},
   "outputs": [
    {
     "name": "stdout",
     "output_type": "stream",
     "text": [
      "X = [[1]\n",
      " [2]\n",
      " [3]\n",
      " [4]]\n",
      "X has shape (4, 1)\n",
      "X[1] = [2]\n",
      "X[1] has shape (1,)\n",
      "w = [2]\n",
      "w has shape (1,)\n",
      "c = 4\n",
      "c has shape ()\n"
     ]
    }
   ],
   "source": [
    "# show common Course 1 example\n",
    "X = np.array([[1],[2],[3],[4]])\n",
    "print(f\"X = {X}\")\n",
    "print(f\"X has shape {X.shape}\")\n",
    "print(f\"X[1] = {X[1]}\")\n",
    "print(f\"X[1] has shape {X[1].shape}\")\n",
    "w = np.array([2])\n",
    "print(f\"w = {w}\")\n",
    "print(f\"w has shape {w.shape}\")\n",
    "c = np.dot(X[1], w)\n",
    "print(f\"c = {c}\")\n",
    "print(f\"c has shape {c.shape}\")"
   ]
  },
  {
   "cell_type": "markdown",
   "id": "a3db2858",
   "metadata": {},
   "source": [
    "### Operations on matrices"
   ]
  },
  {
   "cell_type": "markdown",
   "id": "6e1e044a",
   "metadata": {},
   "source": [
    "#### 1. Indexing"
   ]
  },
  {
   "cell_type": "markdown",
   "id": "661126d5",
   "metadata": {},
   "source": [
    "Matrices include a second index. The two indexes describe [row, column]. Access can either return an element or a row/column."
   ]
  },
  {
   "cell_type": "code",
   "execution_count": 73,
   "id": "c788e23c",
   "metadata": {},
   "outputs": [
    {
     "name": "stdout",
     "output_type": "stream",
     "text": [
      "mat1.shape = (3, 2)\n"
     ]
    }
   ],
   "source": [
    "mat1 = np.arange(6).reshape(-1,2)\n",
    "print(f\"mat1.shape = {mat1.shape}\")"
   ]
  },
  {
   "cell_type": "markdown",
   "id": "c46b6e3c",
   "metadata": {},
   "source": [
    "1. `np.arange(6)`:\n",
    "- The `arange()` function from the NumPy library generates a sequence of equally spaced values. The sequence starts from 0 (by default) up to, but not including, 6.\n",
    "- It creates a 1-dimensional NumPy array, which would be [0, 1, 2, 3, 4, 5]\n",
    "2. `.reshape(-1, 2)`\n",
    "\n",
    "The `reshape()` method changes the array's shape (dimensions) without altering the data.\n",
    "\n",
    "The arguments to `reshape()` specify the new dimensions of the array. In this case, (-1, 2):\n",
    "- 2: This explicitly sets the number of columns in the new array to 2.\n",
    "- -1: This placeholder tells NumPy to automatically calculate the number of rows needed to accommodate all the elements from the original array, given that the number of columns is fixed at 2\n",
    "\n",
    "3. The original array [0, 1, 2, 3, 4, 5] has 6 elements. Reshaping it into a matrix with 2 columns means that 3 rows are needed (3 rows * 2 columns = 6 elements)\n"
   ]
  },
  {
   "cell_type": "code",
   "execution_count": 74,
   "id": "3fbf18af",
   "metadata": {},
   "outputs": [
    {
     "name": "stdout",
     "output_type": "stream",
     "text": [
      "mat1 = [[0 1]\n",
      " [2 3]\n",
      " [4 5]]\n"
     ]
    }
   ],
   "source": [
    "print(f\"mat1 = {mat1}\")"
   ]
  },
  {
   "cell_type": "code",
   "execution_count": 76,
   "id": "ab7eff7c",
   "metadata": {},
   "outputs": [
    {
     "name": "stdout",
     "output_type": "stream",
     "text": [
      "mat1[0,0] = 0\n",
      "mat1[2,1] = 5\n"
     ]
    }
   ],
   "source": [
    "#access an element\n",
    "print(f\"mat1[0,0] = {mat1[0,0]}\")  #access first row, first column\n",
    "print(f\"mat1[2,1] = {mat1[2,1]}\") #access first row, second column"
   ]
  },
  {
   "cell_type": "code",
   "execution_count": 77,
   "id": "6bdc8e68",
   "metadata": {},
   "outputs": [
    {
     "name": "stdout",
     "output_type": "stream",
     "text": [
      "mat1[1] = [2 3]\n"
     ]
    }
   ],
   "source": [
    "#accessing a matrix by specifying a row returns a 1D vector\n",
    "print(f\"mat1[1] = {mat1[1]}\")  #access second row, returns a 1D vector"
   ]
  },
  {
   "cell_type": "markdown",
   "id": "14768a8c",
   "metadata": {},
   "source": [
    "#### 2. Slicing"
   ]
  },
  {
   "cell_type": "markdown",
   "id": "2fdc30ee",
   "metadata": {},
   "source": [
    "Slicing creates an array of indices using a set of three values `(start:stop:step)`. A subset of values is also valid."
   ]
  },
  {
   "cell_type": "code",
   "execution_count": 88,
   "id": "6003585c",
   "metadata": {},
   "outputs": [
    {
     "name": "stdout",
     "output_type": "stream",
     "text": [
      "a = [[ 0  1  2  3  4]\n",
      " [ 5  6  7  8  9]\n",
      " [10 11 12 13 14]\n",
      " [15 16 17 18 19]]\n",
      "\n",
      "a[0, 1:3:1] =  [1 2]\n",
      "\n",
      "a[:, 1:4:1] = [[ 1  2  3]\n",
      " [ 6  7  8]\n",
      " [11 12 13]\n",
      " [16 17 18]]\n",
      "\n",
      "a[:,:] = [[ 0  1  2  3  4]\n",
      " [ 5  6  7  8  9]\n",
      " [10 11 12 13 14]\n",
      " [15 16 17 18 19]]\n",
      "\n",
      "a[1,:] =  [5 6 7 8 9]\n",
      "\n",
      "a[1]  [5 6 7 8 9]\n"
     ]
    }
   ],
   "source": [
    "a = np.arange(20).reshape(-1, 5)\n",
    "print(f\"a = {a}\\n\")\n",
    "\n",
    "print(f\"a[0, 1:3:1] =  {a[0, 1:3:1]}\\n\") #in the 1st row, access elements from index 1 to 2 (inclusive), step by 1\n",
    "\n",
    "print(f\"a[:, 1:4:1] = {a[:, 1:4:1]}\\n\")  #In all rows, access elements from index 1 to 3 (inclusive), step by 1\n",
    "\n",
    "print(f\"a[:,:] = {a[:,:]}\\n\") # access all elements in each row and clumn\n",
    "\n",
    "print(f\"a[1,:] =  {a[1,:]}\\n\") # in the 2nd row, access all elements\n",
    "\n",
    "# same as\n",
    "print(f\"a[1]  {a[1]}\")\n",
    "\n",
    "\n"
   ]
  }
 ],
 "metadata": {
  "kernelspec": {
   "display_name": "venv_tf",
   "language": "python",
   "name": "python3"
  },
  "language_info": {
   "codemirror_mode": {
    "name": "ipython",
    "version": 3
   },
   "file_extension": ".py",
   "mimetype": "text/x-python",
   "name": "python",
   "nbconvert_exporter": "python",
   "pygments_lexer": "ipython3",
   "version": "3.10.6"
  }
 },
 "nbformat": 4,
 "nbformat_minor": 5
}
