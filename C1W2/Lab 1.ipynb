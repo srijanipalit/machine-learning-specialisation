{
 "cells": [
  {
   "cell_type": "markdown",
   "id": "ee0c4610",
   "metadata": {},
   "source": [
    "# Lab 1: Python, NumPy and vectorisation"
   ]
  }
 ],
 "metadata": {
  "language_info": {
   "name": "python"
  }
 },
 "nbformat": 4,
 "nbformat_minor": 5
}
