{
 "cells": [
  {
   "cell_type": "markdown",
   "id": "0a725850",
   "metadata": {},
   "source": [
    "# Lab 2: Multiple linear regression"
   ]
  }
 ],
 "metadata": {
  "kernelspec": {
   "display_name": "venv_tf",
   "language": "python",
   "name": "python3"
  },
  "language_info": {
   "name": "python",
   "version": "3.10.6"
  }
 },
 "nbformat": 4,
 "nbformat_minor": 5
}
