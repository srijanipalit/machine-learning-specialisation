{
 "cells": [
  {
   "cell_type": "markdown",
   "id": "0a725850",
   "metadata": {},
   "source": [
    "# Lab 2: Multiple linear regression"
   ]
  }
 ],
 "metadata": {
  "language_info": {
   "name": "python"
  }
 },
 "nbformat": 4,
 "nbformat_minor": 5
}
