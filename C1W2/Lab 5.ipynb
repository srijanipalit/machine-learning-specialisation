{
 "cells": [
  {
   "cell_type": "markdown",
   "id": "47861b1f",
   "metadata": {},
   "source": [
    "# Lab 5: Linear regression with sci-kit learn"
   ]
  }
 ],
 "metadata": {
  "language_info": {
   "name": "python"
  }
 },
 "nbformat": 4,
 "nbformat_minor": 5
}
