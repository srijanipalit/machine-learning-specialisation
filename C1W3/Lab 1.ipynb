{
 "cells": [
  {
   "cell_type": "markdown",
   "id": "100c190f",
   "metadata": {},
   "source": [
    "# Lab 1: Classification"
   ]
  }
 ],
 "metadata": {
  "language_info": {
   "name": "python"
  }
 },
 "nbformat": 4,
 "nbformat_minor": 5
}
