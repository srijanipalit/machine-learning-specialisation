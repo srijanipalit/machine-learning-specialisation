{
 "cells": [
  {
   "cell_type": "markdown",
   "id": "022d7459",
   "metadata": {},
   "source": [
    "# Lab 2: Sigmoid function and Logistic regression"
   ]
  }
 ],
 "metadata": {
  "language_info": {
   "name": "python"
  }
 },
 "nbformat": 4,
 "nbformat_minor": 5
}
