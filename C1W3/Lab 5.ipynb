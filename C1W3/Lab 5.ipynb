{
 "cells": [
  {
   "cell_type": "markdown",
   "id": "f5a7db7c",
   "metadata": {},
   "source": [
    "# Lab 5: Cost function for logistic regression "
   ]
  }
 ],
 "metadata": {
  "language_info": {
   "name": "python"
  }
 },
 "nbformat": 4,
 "nbformat_minor": 5
}
