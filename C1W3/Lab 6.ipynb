{
 "cells": [
  {
   "cell_type": "markdown",
   "id": "d444fab6",
   "metadata": {},
   "source": [
    "# Lab 6: Gradient Descent for logistic regression"
   ]
  }
 ],
 "metadata": {
  "language_info": {
   "name": "python"
  }
 },
 "nbformat": 4,
 "nbformat_minor": 5
}
