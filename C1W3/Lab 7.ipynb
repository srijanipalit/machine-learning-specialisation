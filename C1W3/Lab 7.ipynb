{
 "cells": [
  {
   "cell_type": "markdown",
   "id": "9656453c",
   "metadata": {},
   "source": [
    "# Lab 7: Logistic regression with Sci-kit Learn"
   ]
  }
 ],
 "metadata": {
  "language_info": {
   "name": "python"
  }
 },
 "nbformat": 4,
 "nbformat_minor": 5
}
