{
 "cells": [
  {
   "cell_type": "markdown",
   "id": "a6f160ec",
   "metadata": {},
   "source": [
    "# Lab 8: Overfitting"
   ]
  }
 ],
 "metadata": {
  "language_info": {
   "name": "python"
  }
 },
 "nbformat": 4,
 "nbformat_minor": 5
}
