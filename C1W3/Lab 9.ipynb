{
 "cells": [
  {
   "cell_type": "markdown",
   "id": "485a35f6",
   "metadata": {},
   "source": [
    "# Lab 9: Regularization"
   ]
  }
 ],
 "metadata": {
  "language_info": {
   "name": "python"
  }
 },
 "nbformat": 4,
 "nbformat_minor": 5
}
