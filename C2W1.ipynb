{
 "cells": [
  {
   "cell_type": "markdown",
   "id": "f260fcdb",
   "metadata": {},
   "source": [
    "# Lab 1: Nerons and layers"
   ]
  },
  {
   "cell_type": "markdown",
   "id": "0b69e575",
   "metadata": {},
   "source": [
    "# Lab 2: Coffee Roasting in Tensorflow"
   ]
  },
  {
   "cell_type": "markdown",
   "id": "714490d5",
   "metadata": {},
   "source": [
    "# Lab 3: CoffeeRoastingNumpy\n"
   ]
  },
  {
   "cell_type": "markdown",
   "id": "83f56db4",
   "metadata": {},
   "source": []
  }
 ],
 "metadata": {
  "kernelspec": {
   "display_name": "venv",
   "language": "python",
   "name": "python3"
  },
  "language_info": {
   "name": "python",
   "version": "3.13.0"
  }
 },
 "nbformat": 4,
 "nbformat_minor": 5
}
