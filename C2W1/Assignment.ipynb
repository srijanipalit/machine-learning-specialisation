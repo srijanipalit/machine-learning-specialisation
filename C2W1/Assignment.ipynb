{
 "cells": [
  {
   "cell_type": "markdown",
   "id": "35c7941a",
   "metadata": {},
   "source": [
    "# Assignment: Neural networks for binary classification"
   ]
  }
 ],
 "metadata": {
  "language_info": {
   "name": "python"
  }
 },
 "nbformat": 4,
 "nbformat_minor": 5
}
