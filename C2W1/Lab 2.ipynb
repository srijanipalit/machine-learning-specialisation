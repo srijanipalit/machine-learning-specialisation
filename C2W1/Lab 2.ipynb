{
 "cells": [
  {
   "cell_type": "markdown",
   "id": "35fb9b0b",
   "metadata": {},
   "source": [
    "# Lab 2: Coffee Roasting in Tensorflow"
   ]
  }
 ],
 "metadata": {
  "language_info": {
   "name": "python"
  }
 },
 "nbformat": 4,
 "nbformat_minor": 5
}
