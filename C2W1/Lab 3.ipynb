{
 "cells": [
  {
   "cell_type": "markdown",
   "id": "3c01b458",
   "metadata": {},
   "source": [
    "# Lab 3: CoffeeRoastingNumpy"
   ]
  }
 ],
 "metadata": {
  "language_info": {
   "name": "python"
  }
 },
 "nbformat": 4,
 "nbformat_minor": 5
}
