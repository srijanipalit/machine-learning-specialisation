{
 "cells": [
  {
   "cell_type": "markdown",
   "id": "edcec968",
   "metadata": {},
   "source": [
    "# Assignment: Neural networks for multiclass classification"
   ]
  }
 ],
 "metadata": {
  "kernelspec": {
   "display_name": "venv_tf",
   "language": "python",
   "name": "python3"
  },
  "language_info": {
   "name": "python",
   "version": "3.10.6"
  }
 },
 "nbformat": 4,
 "nbformat_minor": 5
}
