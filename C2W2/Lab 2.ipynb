{
 "cells": [
  {
   "cell_type": "markdown",
   "id": "68c901ce",
   "metadata": {},
   "source": [
    "# Lab 2: Softmax"
   ]
  }
 ],
 "metadata": {
  "kernelspec": {
   "display_name": "venv_tf",
   "language": "python",
   "name": "python3"
  },
  "language_info": {
   "name": "python",
   "version": "3.10.6"
  }
 },
 "nbformat": 4,
 "nbformat_minor": 5
}
