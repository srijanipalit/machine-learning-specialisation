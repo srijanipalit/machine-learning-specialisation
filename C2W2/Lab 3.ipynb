{
 "cells": [
  {
   "cell_type": "markdown",
   "id": "5a8ff245",
   "metadata": {},
   "source": [
    "# Lab 3: Multiclass"
   ]
  }
 ],
 "metadata": {
  "kernelspec": {
   "display_name": "venv_tf",
   "language": "python",
   "name": "python3"
  },
  "language_info": {
   "codemirror_mode": {
    "name": "ipython",
    "version": 3
   },
   "file_extension": ".py",
   "mimetype": "text/x-python",
   "name": "python",
   "nbconvert_exporter": "python",
   "pygments_lexer": "ipython3",
   "version": "3.10.6"
  }
 },
 "nbformat": 4,
 "nbformat_minor": 5
}
