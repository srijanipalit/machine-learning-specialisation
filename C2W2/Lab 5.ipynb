{
 "cells": [
  {
   "cell_type": "markdown",
   "id": "4cd115f8",
   "metadata": {},
   "source": [
    "# Lab 5: Backpropagation"
   ]
  }
 ],
 "metadata": {
  "kernelspec": {
   "display_name": "venv_tf",
   "language": "python",
   "name": "python3"
  },
  "language_info": {
   "name": "python",
   "version": "3.10.6"
  }
 },
 "nbformat": 4,
 "nbformat_minor": 5
}
