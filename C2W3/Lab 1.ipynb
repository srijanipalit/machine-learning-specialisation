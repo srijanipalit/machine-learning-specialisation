{
 "cells": [
  {
   "cell_type": "markdown",
   "id": "0efbd0fb",
   "metadata": {},
   "source": [
    "# Lab 1: Model Evaluation and selection"
   ]
  }
 ],
 "metadata": {
  "kernelspec": {
   "display_name": "venv_tf",
   "language": "python",
   "name": "python3"
  },
  "language_info": {
   "name": "python",
   "version": "3.10.6"
  }
 },
 "nbformat": 4,
 "nbformat_minor": 5
}
